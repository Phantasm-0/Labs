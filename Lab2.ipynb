{
 "cells": [
  {
   "cell_type": "code",
   "execution_count": 190,
   "id": "b7569d9e",
   "metadata": {},
   "outputs": [],
   "source": [
    "import pandas as pd\n",
    "import sklearn.model_selection as ms\n",
    "from sklearn.linear_model import LogisticRegression\n",
    "from sklearn.model_selection import train_test_split\n",
    "from sklearn.linear_model import LinearRegression\n",
    "from sklearn import preprocessing\n",
    "from sklearn.metrics import r2_score\n",
    "from sklearn.metrics import mean_absolute_error\n",
    "import matplotlib.pyplot as plt\n",
    "import numpy as np\n",
    "import seaborn as sns\n",
    "from sklearn.discriminant_analysis import QuadraticDiscriminantAnalysis\n",
    "from sklearn.metrics import accuracy_score\n",
    "from matplotlib.colors import ListedColormap"
   ]
  },
  {
   "cell_type": "markdown",
   "id": "0b408c29",
   "metadata": {},
   "source": [
    "## 1.3"
   ]
  },
  {
   "cell_type": "markdown",
   "id": "9d749363",
   "metadata": {},
   "source": [
    "Проведите преобразование категориального признака ocean_proximity через OneHot или Dummy-кодировку"
   ]
  },
  {
   "cell_type": "code",
   "execution_count": 191,
   "id": "413a94ee",
   "metadata": {},
   "outputs": [
    {
     "data": {
      "text/html": [
       "<div>\n",
       "<style scoped>\n",
       "    .dataframe tbody tr th:only-of-type {\n",
       "        vertical-align: middle;\n",
       "    }\n",
       "\n",
       "    .dataframe tbody tr th {\n",
       "        vertical-align: top;\n",
       "    }\n",
       "\n",
       "    .dataframe thead th {\n",
       "        text-align: right;\n",
       "    }\n",
       "</style>\n",
       "<table border=\"1\" class=\"dataframe\">\n",
       "  <thead>\n",
       "    <tr style=\"text-align: right;\">\n",
       "      <th></th>\n",
       "      <th>longitude</th>\n",
       "      <th>latitude</th>\n",
       "      <th>housing_median_age</th>\n",
       "      <th>total_rooms</th>\n",
       "      <th>total_bedrooms</th>\n",
       "      <th>population</th>\n",
       "      <th>households</th>\n",
       "      <th>median_income</th>\n",
       "      <th>median_house_value</th>\n",
       "      <th>ocean_proximity__&lt;1H OCEAN</th>\n",
       "      <th>ocean_proximity__INLAND</th>\n",
       "      <th>ocean_proximity__ISLAND</th>\n",
       "      <th>ocean_proximity__NEAR BAY</th>\n",
       "      <th>ocean_proximity__NEAR OCEAN</th>\n",
       "    </tr>\n",
       "  </thead>\n",
       "  <tbody>\n",
       "    <tr>\n",
       "      <th>0</th>\n",
       "      <td>-122.23</td>\n",
       "      <td>37.88</td>\n",
       "      <td>41.0</td>\n",
       "      <td>880.0</td>\n",
       "      <td>129.0</td>\n",
       "      <td>322.0</td>\n",
       "      <td>126.0</td>\n",
       "      <td>8.3252</td>\n",
       "      <td>452600.0</td>\n",
       "      <td>0</td>\n",
       "      <td>0</td>\n",
       "      <td>0</td>\n",
       "      <td>1</td>\n",
       "      <td>0</td>\n",
       "    </tr>\n",
       "    <tr>\n",
       "      <th>1</th>\n",
       "      <td>-122.22</td>\n",
       "      <td>37.86</td>\n",
       "      <td>21.0</td>\n",
       "      <td>7099.0</td>\n",
       "      <td>1106.0</td>\n",
       "      <td>2401.0</td>\n",
       "      <td>1138.0</td>\n",
       "      <td>8.3014</td>\n",
       "      <td>358500.0</td>\n",
       "      <td>0</td>\n",
       "      <td>0</td>\n",
       "      <td>0</td>\n",
       "      <td>1</td>\n",
       "      <td>0</td>\n",
       "    </tr>\n",
       "    <tr>\n",
       "      <th>2</th>\n",
       "      <td>-122.24</td>\n",
       "      <td>37.85</td>\n",
       "      <td>52.0</td>\n",
       "      <td>1467.0</td>\n",
       "      <td>190.0</td>\n",
       "      <td>496.0</td>\n",
       "      <td>177.0</td>\n",
       "      <td>7.2574</td>\n",
       "      <td>352100.0</td>\n",
       "      <td>0</td>\n",
       "      <td>0</td>\n",
       "      <td>0</td>\n",
       "      <td>1</td>\n",
       "      <td>0</td>\n",
       "    </tr>\n",
       "    <tr>\n",
       "      <th>3</th>\n",
       "      <td>-122.25</td>\n",
       "      <td>37.85</td>\n",
       "      <td>52.0</td>\n",
       "      <td>1274.0</td>\n",
       "      <td>235.0</td>\n",
       "      <td>558.0</td>\n",
       "      <td>219.0</td>\n",
       "      <td>5.6431</td>\n",
       "      <td>341300.0</td>\n",
       "      <td>0</td>\n",
       "      <td>0</td>\n",
       "      <td>0</td>\n",
       "      <td>1</td>\n",
       "      <td>0</td>\n",
       "    </tr>\n",
       "    <tr>\n",
       "      <th>4</th>\n",
       "      <td>-122.25</td>\n",
       "      <td>37.85</td>\n",
       "      <td>52.0</td>\n",
       "      <td>1627.0</td>\n",
       "      <td>280.0</td>\n",
       "      <td>565.0</td>\n",
       "      <td>259.0</td>\n",
       "      <td>3.8462</td>\n",
       "      <td>342200.0</td>\n",
       "      <td>0</td>\n",
       "      <td>0</td>\n",
       "      <td>0</td>\n",
       "      <td>1</td>\n",
       "      <td>0</td>\n",
       "    </tr>\n",
       "    <tr>\n",
       "      <th>...</th>\n",
       "      <td>...</td>\n",
       "      <td>...</td>\n",
       "      <td>...</td>\n",
       "      <td>...</td>\n",
       "      <td>...</td>\n",
       "      <td>...</td>\n",
       "      <td>...</td>\n",
       "      <td>...</td>\n",
       "      <td>...</td>\n",
       "      <td>...</td>\n",
       "      <td>...</td>\n",
       "      <td>...</td>\n",
       "      <td>...</td>\n",
       "      <td>...</td>\n",
       "    </tr>\n",
       "    <tr>\n",
       "      <th>20635</th>\n",
       "      <td>-121.09</td>\n",
       "      <td>39.48</td>\n",
       "      <td>25.0</td>\n",
       "      <td>1665.0</td>\n",
       "      <td>374.0</td>\n",
       "      <td>845.0</td>\n",
       "      <td>330.0</td>\n",
       "      <td>1.5603</td>\n",
       "      <td>78100.0</td>\n",
       "      <td>0</td>\n",
       "      <td>1</td>\n",
       "      <td>0</td>\n",
       "      <td>0</td>\n",
       "      <td>0</td>\n",
       "    </tr>\n",
       "    <tr>\n",
       "      <th>20636</th>\n",
       "      <td>-121.21</td>\n",
       "      <td>39.49</td>\n",
       "      <td>18.0</td>\n",
       "      <td>697.0</td>\n",
       "      <td>150.0</td>\n",
       "      <td>356.0</td>\n",
       "      <td>114.0</td>\n",
       "      <td>2.5568</td>\n",
       "      <td>77100.0</td>\n",
       "      <td>0</td>\n",
       "      <td>1</td>\n",
       "      <td>0</td>\n",
       "      <td>0</td>\n",
       "      <td>0</td>\n",
       "    </tr>\n",
       "    <tr>\n",
       "      <th>20637</th>\n",
       "      <td>-121.22</td>\n",
       "      <td>39.43</td>\n",
       "      <td>17.0</td>\n",
       "      <td>2254.0</td>\n",
       "      <td>485.0</td>\n",
       "      <td>1007.0</td>\n",
       "      <td>433.0</td>\n",
       "      <td>1.7000</td>\n",
       "      <td>92300.0</td>\n",
       "      <td>0</td>\n",
       "      <td>1</td>\n",
       "      <td>0</td>\n",
       "      <td>0</td>\n",
       "      <td>0</td>\n",
       "    </tr>\n",
       "    <tr>\n",
       "      <th>20638</th>\n",
       "      <td>-121.32</td>\n",
       "      <td>39.43</td>\n",
       "      <td>18.0</td>\n",
       "      <td>1860.0</td>\n",
       "      <td>409.0</td>\n",
       "      <td>741.0</td>\n",
       "      <td>349.0</td>\n",
       "      <td>1.8672</td>\n",
       "      <td>84700.0</td>\n",
       "      <td>0</td>\n",
       "      <td>1</td>\n",
       "      <td>0</td>\n",
       "      <td>0</td>\n",
       "      <td>0</td>\n",
       "    </tr>\n",
       "    <tr>\n",
       "      <th>20639</th>\n",
       "      <td>-121.24</td>\n",
       "      <td>39.37</td>\n",
       "      <td>16.0</td>\n",
       "      <td>2785.0</td>\n",
       "      <td>616.0</td>\n",
       "      <td>1387.0</td>\n",
       "      <td>530.0</td>\n",
       "      <td>2.3886</td>\n",
       "      <td>89400.0</td>\n",
       "      <td>0</td>\n",
       "      <td>1</td>\n",
       "      <td>0</td>\n",
       "      <td>0</td>\n",
       "      <td>0</td>\n",
       "    </tr>\n",
       "  </tbody>\n",
       "</table>\n",
       "<p>20640 rows × 14 columns</p>\n",
       "</div>"
      ],
      "text/plain": [
       "       longitude  latitude  housing_median_age  total_rooms  total_bedrooms  \\\n",
       "0        -122.23     37.88                41.0        880.0           129.0   \n",
       "1        -122.22     37.86                21.0       7099.0          1106.0   \n",
       "2        -122.24     37.85                52.0       1467.0           190.0   \n",
       "3        -122.25     37.85                52.0       1274.0           235.0   \n",
       "4        -122.25     37.85                52.0       1627.0           280.0   \n",
       "...          ...       ...                 ...          ...             ...   \n",
       "20635    -121.09     39.48                25.0       1665.0           374.0   \n",
       "20636    -121.21     39.49                18.0        697.0           150.0   \n",
       "20637    -121.22     39.43                17.0       2254.0           485.0   \n",
       "20638    -121.32     39.43                18.0       1860.0           409.0   \n",
       "20639    -121.24     39.37                16.0       2785.0           616.0   \n",
       "\n",
       "       population  households  median_income  median_house_value  \\\n",
       "0           322.0       126.0         8.3252            452600.0   \n",
       "1          2401.0      1138.0         8.3014            358500.0   \n",
       "2           496.0       177.0         7.2574            352100.0   \n",
       "3           558.0       219.0         5.6431            341300.0   \n",
       "4           565.0       259.0         3.8462            342200.0   \n",
       "...           ...         ...            ...                 ...   \n",
       "20635       845.0       330.0         1.5603             78100.0   \n",
       "20636       356.0       114.0         2.5568             77100.0   \n",
       "20637      1007.0       433.0         1.7000             92300.0   \n",
       "20638       741.0       349.0         1.8672             84700.0   \n",
       "20639      1387.0       530.0         2.3886             89400.0   \n",
       "\n",
       "       ocean_proximity__<1H OCEAN  ocean_proximity__INLAND  \\\n",
       "0                               0                        0   \n",
       "1                               0                        0   \n",
       "2                               0                        0   \n",
       "3                               0                        0   \n",
       "4                               0                        0   \n",
       "...                           ...                      ...   \n",
       "20635                           0                        1   \n",
       "20636                           0                        1   \n",
       "20637                           0                        1   \n",
       "20638                           0                        1   \n",
       "20639                           0                        1   \n",
       "\n",
       "       ocean_proximity__ISLAND  ocean_proximity__NEAR BAY  \\\n",
       "0                            0                          1   \n",
       "1                            0                          1   \n",
       "2                            0                          1   \n",
       "3                            0                          1   \n",
       "4                            0                          1   \n",
       "...                        ...                        ...   \n",
       "20635                        0                          0   \n",
       "20636                        0                          0   \n",
       "20637                        0                          0   \n",
       "20638                        0                          0   \n",
       "20639                        0                          0   \n",
       "\n",
       "       ocean_proximity__NEAR OCEAN  \n",
       "0                                0  \n",
       "1                                0  \n",
       "2                                0  \n",
       "3                                0  \n",
       "4                                0  \n",
       "...                            ...  \n",
       "20635                            0  \n",
       "20636                            0  \n",
       "20637                            0  \n",
       "20638                            0  \n",
       "20639                            0  \n",
       "\n",
       "[20640 rows x 14 columns]"
      ]
     },
     "execution_count": 191,
     "metadata": {},
     "output_type": "execute_result"
    }
   ],
   "source": [
    "    housing = pd.read_csv('./housing.csv')\n",
    "    housing_dummies = pd.get_dummies(housing,columns = ['ocean_proximity'], prefix_sep=\"__\")\n",
    "    housing_dummies"
   ]
  },
  {
   "cell_type": "markdown",
   "id": "a9b1459e",
   "metadata": {},
   "source": [
    "Замените признаки total_rooms и total_bedrooms на average_rooms и average_bedrooms (поделив на households)."
   ]
  },
  {
   "cell_type": "code",
   "execution_count": 192,
   "id": "36b50e0b",
   "metadata": {},
   "outputs": [
    {
     "data": {
      "text/html": [
       "<div>\n",
       "<style scoped>\n",
       "    .dataframe tbody tr th:only-of-type {\n",
       "        vertical-align: middle;\n",
       "    }\n",
       "\n",
       "    .dataframe tbody tr th {\n",
       "        vertical-align: top;\n",
       "    }\n",
       "\n",
       "    .dataframe thead th {\n",
       "        text-align: right;\n",
       "    }\n",
       "</style>\n",
       "<table border=\"1\" class=\"dataframe\">\n",
       "  <thead>\n",
       "    <tr style=\"text-align: right;\">\n",
       "      <th></th>\n",
       "      <th>longitude</th>\n",
       "      <th>latitude</th>\n",
       "      <th>housing_median_age</th>\n",
       "      <th>population</th>\n",
       "      <th>households</th>\n",
       "      <th>median_income</th>\n",
       "      <th>median_house_value</th>\n",
       "      <th>ocean_proximity__&lt;1H OCEAN</th>\n",
       "      <th>ocean_proximity__INLAND</th>\n",
       "      <th>ocean_proximity__ISLAND</th>\n",
       "      <th>ocean_proximity__NEAR BAY</th>\n",
       "      <th>ocean_proximity__NEAR OCEAN</th>\n",
       "      <th>average_rooms</th>\n",
       "      <th>average_bedrooms</th>\n",
       "    </tr>\n",
       "  </thead>\n",
       "  <tbody>\n",
       "    <tr>\n",
       "      <th>0</th>\n",
       "      <td>-122.23</td>\n",
       "      <td>37.88</td>\n",
       "      <td>41.0</td>\n",
       "      <td>322.0</td>\n",
       "      <td>126.0</td>\n",
       "      <td>8.3252</td>\n",
       "      <td>452600.0</td>\n",
       "      <td>0</td>\n",
       "      <td>0</td>\n",
       "      <td>0</td>\n",
       "      <td>1</td>\n",
       "      <td>0</td>\n",
       "      <td>6.984127</td>\n",
       "      <td>1.023810</td>\n",
       "    </tr>\n",
       "    <tr>\n",
       "      <th>1</th>\n",
       "      <td>-122.22</td>\n",
       "      <td>37.86</td>\n",
       "      <td>21.0</td>\n",
       "      <td>2401.0</td>\n",
       "      <td>1138.0</td>\n",
       "      <td>8.3014</td>\n",
       "      <td>358500.0</td>\n",
       "      <td>0</td>\n",
       "      <td>0</td>\n",
       "      <td>0</td>\n",
       "      <td>1</td>\n",
       "      <td>0</td>\n",
       "      <td>6.238137</td>\n",
       "      <td>0.971880</td>\n",
       "    </tr>\n",
       "    <tr>\n",
       "      <th>2</th>\n",
       "      <td>-122.24</td>\n",
       "      <td>37.85</td>\n",
       "      <td>52.0</td>\n",
       "      <td>496.0</td>\n",
       "      <td>177.0</td>\n",
       "      <td>7.2574</td>\n",
       "      <td>352100.0</td>\n",
       "      <td>0</td>\n",
       "      <td>0</td>\n",
       "      <td>0</td>\n",
       "      <td>1</td>\n",
       "      <td>0</td>\n",
       "      <td>8.288136</td>\n",
       "      <td>1.073446</td>\n",
       "    </tr>\n",
       "    <tr>\n",
       "      <th>3</th>\n",
       "      <td>-122.25</td>\n",
       "      <td>37.85</td>\n",
       "      <td>52.0</td>\n",
       "      <td>558.0</td>\n",
       "      <td>219.0</td>\n",
       "      <td>5.6431</td>\n",
       "      <td>341300.0</td>\n",
       "      <td>0</td>\n",
       "      <td>0</td>\n",
       "      <td>0</td>\n",
       "      <td>1</td>\n",
       "      <td>0</td>\n",
       "      <td>5.817352</td>\n",
       "      <td>1.073059</td>\n",
       "    </tr>\n",
       "    <tr>\n",
       "      <th>4</th>\n",
       "      <td>-122.25</td>\n",
       "      <td>37.85</td>\n",
       "      <td>52.0</td>\n",
       "      <td>565.0</td>\n",
       "      <td>259.0</td>\n",
       "      <td>3.8462</td>\n",
       "      <td>342200.0</td>\n",
       "      <td>0</td>\n",
       "      <td>0</td>\n",
       "      <td>0</td>\n",
       "      <td>1</td>\n",
       "      <td>0</td>\n",
       "      <td>6.281853</td>\n",
       "      <td>1.081081</td>\n",
       "    </tr>\n",
       "    <tr>\n",
       "      <th>...</th>\n",
       "      <td>...</td>\n",
       "      <td>...</td>\n",
       "      <td>...</td>\n",
       "      <td>...</td>\n",
       "      <td>...</td>\n",
       "      <td>...</td>\n",
       "      <td>...</td>\n",
       "      <td>...</td>\n",
       "      <td>...</td>\n",
       "      <td>...</td>\n",
       "      <td>...</td>\n",
       "      <td>...</td>\n",
       "      <td>...</td>\n",
       "      <td>...</td>\n",
       "    </tr>\n",
       "    <tr>\n",
       "      <th>20635</th>\n",
       "      <td>-121.09</td>\n",
       "      <td>39.48</td>\n",
       "      <td>25.0</td>\n",
       "      <td>845.0</td>\n",
       "      <td>330.0</td>\n",
       "      <td>1.5603</td>\n",
       "      <td>78100.0</td>\n",
       "      <td>0</td>\n",
       "      <td>1</td>\n",
       "      <td>0</td>\n",
       "      <td>0</td>\n",
       "      <td>0</td>\n",
       "      <td>5.045455</td>\n",
       "      <td>1.133333</td>\n",
       "    </tr>\n",
       "    <tr>\n",
       "      <th>20636</th>\n",
       "      <td>-121.21</td>\n",
       "      <td>39.49</td>\n",
       "      <td>18.0</td>\n",
       "      <td>356.0</td>\n",
       "      <td>114.0</td>\n",
       "      <td>2.5568</td>\n",
       "      <td>77100.0</td>\n",
       "      <td>0</td>\n",
       "      <td>1</td>\n",
       "      <td>0</td>\n",
       "      <td>0</td>\n",
       "      <td>0</td>\n",
       "      <td>6.114035</td>\n",
       "      <td>1.315789</td>\n",
       "    </tr>\n",
       "    <tr>\n",
       "      <th>20637</th>\n",
       "      <td>-121.22</td>\n",
       "      <td>39.43</td>\n",
       "      <td>17.0</td>\n",
       "      <td>1007.0</td>\n",
       "      <td>433.0</td>\n",
       "      <td>1.7000</td>\n",
       "      <td>92300.0</td>\n",
       "      <td>0</td>\n",
       "      <td>1</td>\n",
       "      <td>0</td>\n",
       "      <td>0</td>\n",
       "      <td>0</td>\n",
       "      <td>5.205543</td>\n",
       "      <td>1.120092</td>\n",
       "    </tr>\n",
       "    <tr>\n",
       "      <th>20638</th>\n",
       "      <td>-121.32</td>\n",
       "      <td>39.43</td>\n",
       "      <td>18.0</td>\n",
       "      <td>741.0</td>\n",
       "      <td>349.0</td>\n",
       "      <td>1.8672</td>\n",
       "      <td>84700.0</td>\n",
       "      <td>0</td>\n",
       "      <td>1</td>\n",
       "      <td>0</td>\n",
       "      <td>0</td>\n",
       "      <td>0</td>\n",
       "      <td>5.329513</td>\n",
       "      <td>1.171920</td>\n",
       "    </tr>\n",
       "    <tr>\n",
       "      <th>20639</th>\n",
       "      <td>-121.24</td>\n",
       "      <td>39.37</td>\n",
       "      <td>16.0</td>\n",
       "      <td>1387.0</td>\n",
       "      <td>530.0</td>\n",
       "      <td>2.3886</td>\n",
       "      <td>89400.0</td>\n",
       "      <td>0</td>\n",
       "      <td>1</td>\n",
       "      <td>0</td>\n",
       "      <td>0</td>\n",
       "      <td>0</td>\n",
       "      <td>5.254717</td>\n",
       "      <td>1.162264</td>\n",
       "    </tr>\n",
       "  </tbody>\n",
       "</table>\n",
       "<p>20640 rows × 14 columns</p>\n",
       "</div>"
      ],
      "text/plain": [
       "       longitude  latitude  housing_median_age  population  households  \\\n",
       "0        -122.23     37.88                41.0       322.0       126.0   \n",
       "1        -122.22     37.86                21.0      2401.0      1138.0   \n",
       "2        -122.24     37.85                52.0       496.0       177.0   \n",
       "3        -122.25     37.85                52.0       558.0       219.0   \n",
       "4        -122.25     37.85                52.0       565.0       259.0   \n",
       "...          ...       ...                 ...         ...         ...   \n",
       "20635    -121.09     39.48                25.0       845.0       330.0   \n",
       "20636    -121.21     39.49                18.0       356.0       114.0   \n",
       "20637    -121.22     39.43                17.0      1007.0       433.0   \n",
       "20638    -121.32     39.43                18.0       741.0       349.0   \n",
       "20639    -121.24     39.37                16.0      1387.0       530.0   \n",
       "\n",
       "       median_income  median_house_value  ocean_proximity__<1H OCEAN  \\\n",
       "0             8.3252            452600.0                           0   \n",
       "1             8.3014            358500.0                           0   \n",
       "2             7.2574            352100.0                           0   \n",
       "3             5.6431            341300.0                           0   \n",
       "4             3.8462            342200.0                           0   \n",
       "...              ...                 ...                         ...   \n",
       "20635         1.5603             78100.0                           0   \n",
       "20636         2.5568             77100.0                           0   \n",
       "20637         1.7000             92300.0                           0   \n",
       "20638         1.8672             84700.0                           0   \n",
       "20639         2.3886             89400.0                           0   \n",
       "\n",
       "       ocean_proximity__INLAND  ocean_proximity__ISLAND  \\\n",
       "0                            0                        0   \n",
       "1                            0                        0   \n",
       "2                            0                        0   \n",
       "3                            0                        0   \n",
       "4                            0                        0   \n",
       "...                        ...                      ...   \n",
       "20635                        1                        0   \n",
       "20636                        1                        0   \n",
       "20637                        1                        0   \n",
       "20638                        1                        0   \n",
       "20639                        1                        0   \n",
       "\n",
       "       ocean_proximity__NEAR BAY  ocean_proximity__NEAR OCEAN  average_rooms  \\\n",
       "0                              1                            0       6.984127   \n",
       "1                              1                            0       6.238137   \n",
       "2                              1                            0       8.288136   \n",
       "3                              1                            0       5.817352   \n",
       "4                              1                            0       6.281853   \n",
       "...                          ...                          ...            ...   \n",
       "20635                          0                            0       5.045455   \n",
       "20636                          0                            0       6.114035   \n",
       "20637                          0                            0       5.205543   \n",
       "20638                          0                            0       5.329513   \n",
       "20639                          0                            0       5.254717   \n",
       "\n",
       "       average_bedrooms  \n",
       "0              1.023810  \n",
       "1              0.971880  \n",
       "2              1.073446  \n",
       "3              1.073059  \n",
       "4              1.081081  \n",
       "...                 ...  \n",
       "20635          1.133333  \n",
       "20636          1.315789  \n",
       "20637          1.120092  \n",
       "20638          1.171920  \n",
       "20639          1.162264  \n",
       "\n",
       "[20640 rows x 14 columns]"
      ]
     },
     "execution_count": 192,
     "metadata": {},
     "output_type": "execute_result"
    }
   ],
   "source": [
    "housing_dummies['average_rooms'] = housing_dummies['total_rooms'] / housing_dummies['households']\n",
    "housing_dummies['average_bedrooms'] = housing_dummies['total_bedrooms'] / housing_dummies['households']\n",
    "housing_dummies = housing_dummies.drop(['total_rooms','total_bedrooms'], axis=1)\n",
    "housing_dummies"
   ]
  },
  {
   "cell_type": "markdown",
   "id": "e7a443e4",
   "metadata": {},
   "source": [
    "В признаке average_bedrooms (total_bedrooms) есть отсутствующие значения. Определите число экземпляров данных, для которых этот признак отсутствует. Придумайте и обоснуйте стратегию заполнения пропусков в этой задаче."
   ]
  },
  {
   "cell_type": "code",
   "execution_count": 193,
   "id": "d95f366f",
   "metadata": {},
   "outputs": [
    {
     "data": {
      "text/plain": [
       "7428     1.086093\n",
       "16686    1.041176\n",
       "11852    1.209302\n",
       "1940     1.147368\n",
       "1543     1.074447\n",
       "           ...   \n",
       "12721    0.975000\n",
       "3341     1.931624\n",
       "764      0.927184\n",
       "13441    1.040892\n",
       "5121     1.113801\n",
       "Name: average_bedrooms, Length: 13209, dtype: float64"
      ]
     },
     "execution_count": 193,
     "metadata": {},
     "output_type": "execute_result"
    }
   ],
   "source": [
    "housing_train_val, housing_test =  train_test_split( housing_dummies, test_size =0.2)\n",
    "housing_train, housing_val =  train_test_split( housing_train_val, test_size =0.2)\n",
    "\n",
    "housing_train_dna = housing_train.dropna(axis=0).drop('median_house_value',axis=1)\n",
    "housing_test_dna = housing_test.dropna(axis=0).drop('median_house_value',axis=1)\n",
    "\n",
    "X_for_train = housing_train_dna.drop('average_bedrooms',axis=1)\n",
    "Y_for_train = housing_train_dna['average_bedrooms']\n",
    "\n",
    "X_for_test = housing_test_dna.drop('average_bedrooms',axis=1)\n",
    "Y_for_test = housing_test_dna['average_bedrooms']\n",
    "\n",
    "regression = LinearRegression()\n",
    "regression.fit(X_for_train, Y_for_train)\n",
    "\n",
    "housing_train_null = housing_train['average_bedrooms'].isnull()\n",
    "housing_test_null = housing_test['average_bedrooms'].isnull()\n",
    "housing_val_null = housing_val['average_bedrooms'].isnull()\n",
    "\n",
    "train = housing_train.loc[housing_train_null].drop('average_bedrooms',axis=1).drop('median_house_value',axis=1)\n",
    "test = housing_test.loc[housing_test_null].drop('average_bedrooms',axis=1).drop('median_house_value',axis=1)\n",
    "val = housing_val.loc[housing_val_null].drop('average_bedrooms',axis=1).drop('median_house_value',axis=1)\n",
    "\n",
    "housing_train.loc[housing_train_null, 'average_bedrooms' ] = regression.predict(train)\n",
    "housing_test.loc[housing_test_null, 'average_bedrooms' ] = regression.predict(test)\n",
    "housing_val.loc[housing_val_null, 'average_bedrooms' ] = regression.predict(val)\n",
    "\n",
    "housing_train['average_bedrooms']\n",
    "\n"
   ]
  },
  {
   "cell_type": "markdown",
   "id": "d4d32812",
   "metadata": {},
   "source": [
    "Нормализуйте признаки longitude и latitude (сделайте так, чтобы каждый признак имел среднее значение 0 и дисперсию 1 внутри обучающей выборки)"
   ]
  },
  {
   "cell_type": "code",
   "execution_count": 134,
   "id": "4e2583ad",
   "metadata": {},
   "outputs": [],
   "source": [
    "scaler_long = preprocessing.StandardScaler().fit(housing_train[['longitude']])\n",
    "scaler_lat = preprocessing.StandardScaler().fit(housing_train[['latitude']])"
   ]
  },
  {
   "cell_type": "code",
   "execution_count": 135,
   "id": "33fb0903",
   "metadata": {},
   "outputs": [],
   "source": [
    "\n",
    "housing_train['longitude'] = scaler_long.transform(housing_train[['longitude']]).reshape(-1)\n",
    "housing_train['latitude'] = scaler_lat.transform(housing_train[['latitude']]).reshape(-1)\n",
    "\n",
    "housing_test['longitude'] = scaler_long.transform(housing_test[['longitude']]).reshape(-1)\n",
    "housing_test['latitude'] = scaler_lat.transform(housing_test[['latitude']]).reshape(-1)\n",
    "\n",
    "housing_val['longitude'] = scaler_long.transform(housing_val[['longitude']]).reshape(-1)\n",
    "housing_val['latitude'] = scaler_lat.transform(housing_val[['latitude']]).reshape(-1)\n",
    "\n"
   ]
  },
  {
   "cell_type": "markdown",
   "id": "e3301155",
   "metadata": {},
   "source": [
    "## 2.2"
   ]
  },
  {
   "cell_type": "code",
   "execution_count": 136,
   "id": "dab58d6d",
   "metadata": {},
   "outputs": [
    {
     "data": {
      "text/html": [
       "<div>\n",
       "<style scoped>\n",
       "    .dataframe tbody tr th:only-of-type {\n",
       "        vertical-align: middle;\n",
       "    }\n",
       "\n",
       "    .dataframe tbody tr th {\n",
       "        vertical-align: top;\n",
       "    }\n",
       "\n",
       "    .dataframe thead th {\n",
       "        text-align: right;\n",
       "    }\n",
       "</style>\n",
       "<table border=\"1\" class=\"dataframe\">\n",
       "  <thead>\n",
       "    <tr style=\"text-align: right;\">\n",
       "      <th></th>\n",
       "      <th>AT</th>\n",
       "      <th>V</th>\n",
       "      <th>AP</th>\n",
       "      <th>RH</th>\n",
       "      <th>PE</th>\n",
       "    </tr>\n",
       "  </thead>\n",
       "  <tbody>\n",
       "    <tr>\n",
       "      <th>0</th>\n",
       "      <td>14.96</td>\n",
       "      <td>41.76</td>\n",
       "      <td>1024.07</td>\n",
       "      <td>73.17</td>\n",
       "      <td>463.26</td>\n",
       "    </tr>\n",
       "    <tr>\n",
       "      <th>1</th>\n",
       "      <td>25.18</td>\n",
       "      <td>62.96</td>\n",
       "      <td>1020.04</td>\n",
       "      <td>59.08</td>\n",
       "      <td>444.37</td>\n",
       "    </tr>\n",
       "    <tr>\n",
       "      <th>2</th>\n",
       "      <td>5.11</td>\n",
       "      <td>39.40</td>\n",
       "      <td>1012.16</td>\n",
       "      <td>92.14</td>\n",
       "      <td>488.56</td>\n",
       "    </tr>\n",
       "    <tr>\n",
       "      <th>3</th>\n",
       "      <td>20.86</td>\n",
       "      <td>57.32</td>\n",
       "      <td>1010.24</td>\n",
       "      <td>76.64</td>\n",
       "      <td>446.48</td>\n",
       "    </tr>\n",
       "    <tr>\n",
       "      <th>4</th>\n",
       "      <td>10.82</td>\n",
       "      <td>37.50</td>\n",
       "      <td>1009.23</td>\n",
       "      <td>96.62</td>\n",
       "      <td>473.90</td>\n",
       "    </tr>\n",
       "    <tr>\n",
       "      <th>...</th>\n",
       "      <td>...</td>\n",
       "      <td>...</td>\n",
       "      <td>...</td>\n",
       "      <td>...</td>\n",
       "      <td>...</td>\n",
       "    </tr>\n",
       "    <tr>\n",
       "      <th>9563</th>\n",
       "      <td>16.65</td>\n",
       "      <td>49.69</td>\n",
       "      <td>1014.01</td>\n",
       "      <td>91.00</td>\n",
       "      <td>460.03</td>\n",
       "    </tr>\n",
       "    <tr>\n",
       "      <th>9564</th>\n",
       "      <td>13.19</td>\n",
       "      <td>39.18</td>\n",
       "      <td>1023.67</td>\n",
       "      <td>66.78</td>\n",
       "      <td>469.62</td>\n",
       "    </tr>\n",
       "    <tr>\n",
       "      <th>9565</th>\n",
       "      <td>31.32</td>\n",
       "      <td>74.33</td>\n",
       "      <td>1012.92</td>\n",
       "      <td>36.48</td>\n",
       "      <td>429.57</td>\n",
       "    </tr>\n",
       "    <tr>\n",
       "      <th>9566</th>\n",
       "      <td>24.48</td>\n",
       "      <td>69.45</td>\n",
       "      <td>1013.86</td>\n",
       "      <td>62.39</td>\n",
       "      <td>435.74</td>\n",
       "    </tr>\n",
       "    <tr>\n",
       "      <th>9567</th>\n",
       "      <td>21.60</td>\n",
       "      <td>62.52</td>\n",
       "      <td>1017.23</td>\n",
       "      <td>67.87</td>\n",
       "      <td>453.28</td>\n",
       "    </tr>\n",
       "  </tbody>\n",
       "</table>\n",
       "<p>9568 rows × 5 columns</p>\n",
       "</div>"
      ],
      "text/plain": [
       "         AT      V       AP     RH      PE\n",
       "0     14.96  41.76  1024.07  73.17  463.26\n",
       "1     25.18  62.96  1020.04  59.08  444.37\n",
       "2      5.11  39.40  1012.16  92.14  488.56\n",
       "3     20.86  57.32  1010.24  76.64  446.48\n",
       "4     10.82  37.50  1009.23  96.62  473.90\n",
       "...     ...    ...      ...    ...     ...\n",
       "9563  16.65  49.69  1014.01  91.00  460.03\n",
       "9564  13.19  39.18  1023.67  66.78  469.62\n",
       "9565  31.32  74.33  1012.92  36.48  429.57\n",
       "9566  24.48  69.45  1013.86  62.39  435.74\n",
       "9567  21.60  62.52  1017.23  67.87  453.28\n",
       "\n",
       "[9568 rows x 5 columns]"
      ]
     },
     "execution_count": 136,
     "metadata": {},
     "output_type": "execute_result"
    }
   ],
   "source": [
    "    ccpp = pd.read_excel('./Folds5x2_pp.xlsx',sheet_name= \"Sheet1\")\n",
    "    ccpp"
   ]
  },
  {
   "cell_type": "markdown",
   "id": "7e4bec95",
   "metadata": {},
   "source": [
    "Возьмите данные с листа 1 и выделите валидационную и тестовую выборку."
   ]
  },
  {
   "cell_type": "code",
   "execution_count": 137,
   "id": "363b4e6c",
   "metadata": {},
   "outputs": [],
   "source": [
    "ccpp_train_val, ccpp_test = train_test_split(ccpp, test_size=0.1)\n",
    "ccpp_train, ccpp_val = train_test_split(ccpp_train_val, test_size=0.1)\n"
   ]
  },
  {
   "cell_type": "markdown",
   "id": "e8fc01f9",
   "metadata": {},
   "source": [
    "Постройте регрессионную модель. Замерьте коэффициент и среднюю ошибку предсказания на валидационной выборке."
   ]
  },
  {
   "cell_type": "code",
   "execution_count": 138,
   "id": "970aae2b",
   "metadata": {},
   "outputs": [
    {
     "name": "stdout",
     "output_type": "stream",
     "text": [
      "mean_absolute_error : 3.8136778328192906\n",
      "r2_score : 0.9263938202118125\n"
     ]
    }
   ],
   "source": [
    "model = LinearRegression()\n",
    "X_train = ccpp_train.drop(\"PE\",axis=1)\n",
    "Y_train = ccpp_train['PE']\n",
    "model.fit(X_train, Y_train)\n",
    "\n",
    "X_val = ccpp_val.drop(\"PE\",axis=1)\n",
    "predictions = model.predict(X_val)\n",
    "\n",
    "r2_score = r2_score(ccpp_val['PE'], predictions)\n",
    "mean_absolute_error = mean_absolute_error(ccpp_val['PE'], predictions)\n",
    "\n",
    "print(f'mean_absolute_error : {mean_absolute_error}')\n",
    "print(f'r2_score : {r2_score}')"
   ]
  },
  {
   "cell_type": "markdown",
   "id": "f271e007",
   "metadata": {},
   "source": [
    "Постройте точки из валидационной выборки на плоскости (t=истинное значение, y=предсказание модели). Отобразите вместе с ними прямую y=t."
   ]
  },
  {
   "cell_type": "code",
   "execution_count": 139,
   "id": "283fd462",
   "metadata": {},
   "outputs": [
    {
     "data": {
      "text/plain": [
       "[<matplotlib.lines.Line2D at 0x1fd8efe8>]"
      ]
     },
     "execution_count": 139,
     "metadata": {},
     "output_type": "execute_result"
    },
    {
     "data": {
      "image/png": "[encoded data removed]",
      "text/plain": [
       "<Figure size 432x288 with 1 Axes>"
      ]
     },
     "metadata": {
      "needs_background": "light"
     },
     "output_type": "display_data"
    }
   ],
   "source": [
    "ax = plt.gca()\n",
    "ax.cla()\n",
    "x = ccpp_val['PE'].min()\n",
    "y = ccpp_val['PE'].max()\n",
    "ax.set_xlim(x, y)\n",
    "ax.set_ylim(x, y)\n",
    "\n",
    "plt.scatter(ccpp_val['PE'], predictions, s = 1)\n",
    "plt.plot(np.linspace(x,y),\n",
    "         np.linspace(x,y), \n",
    "         c = 'black')"
   ]
  },
  {
   "cell_type": "markdown",
   "id": "b6b370c1",
   "metadata": {},
   "source": [
    "## 2.1"
   ]
  },
  {
   "cell_type": "markdown",
   "id": "e2e83aad",
   "metadata": {},
   "source": [
    "Удалите некорректные данные"
   ]
  },
  {
   "cell_type": "code",
   "execution_count": 140,
   "id": "c4442f14",
   "metadata": {},
   "outputs": [],
   "source": [
    "davis = pd.read_csv('./Davis.csv')\n",
    "davis = davis.loc[davis['weight'] > 40]\n",
    "davis = davis.loc[davis['height'] > 120]"
   ]
  },
  {
   "cell_type": "markdown",
   "id": "78862810",
   "metadata": {},
   "source": [
    "Выделите тестовую выборку из 50 экземпляров"
   ]
  },
  {
   "cell_type": "code",
   "execution_count": 141,
   "id": "7657dda5",
   "metadata": {},
   "outputs": [],
   "source": [
    "davis_train, davis_test = train_test_split(davis, train_size = 50, stratify = davis['sex'])"
   ]
  },
  {
   "cell_type": "markdown",
   "id": "82ec3274",
   "metadata": {},
   "source": [
    "На тренировочных данных постройте: Гистограмму height Гистограмму weight Эти же гистограммы для разных полов\n"
   ]
  },
  {
   "cell_type": "code",
   "execution_count": 142,
   "id": "411c2ad9",
   "metadata": {},
   "outputs": [
    {
     "data": {
      "text/plain": [
       "<AxesSubplot:xlabel='weight', ylabel='Count'>"
      ]
     },
     "execution_count": 142,
     "metadata": {},
     "output_type": "execute_result"
    },
    {
     "data": {
      "image/png": "[encoded data removed]",
      "text/plain": [
       "<Figure size 432x288 with 1 Axes>"
      ]
     },
     "metadata": {
      "needs_background": "light"
     },
     "output_type": "display_data"
    }
   ],
   "source": [
    "sns.histplot(davis_train['weight'])\n"
   ]
  },
  {
   "cell_type": "code",
   "execution_count": 143,
   "id": "0a44dbd4",
   "metadata": {},
   "outputs": [
    {
     "data": {
      "text/plain": [
       "<AxesSubplot:xlabel='height', ylabel='Count'>"
      ]
     },
     "execution_count": 143,
     "metadata": {},
     "output_type": "execute_result"
    },
    {
     "data": {
      "image/png": "[encoded data removed]",
      "text/plain": [
       "<Figure size 432x288 with 1 Axes>"
      ]
     },
     "metadata": {
      "needs_background": "light"
     },
     "output_type": "display_data"
    }
   ],
   "source": [
    "sns.histplot(davis_train['height'])"
   ]
  },
  {
   "cell_type": "code",
   "execution_count": 144,
   "id": "8f0ae90c",
   "metadata": {},
   "outputs": [
    {
     "data": {
      "text/plain": [
       "<AxesSubplot:xlabel='weight', ylabel='Count'>"
      ]
     },
     "execution_count": 144,
     "metadata": {},
     "output_type": "execute_result"
    },
    {
     "data": {
      "image/png": "[encoded data removed]",
      "text/plain": [
       "<Figure size 432x288 with 1 Axes>"
      ]
     },
     "metadata": {
      "needs_background": "light"
     },
     "output_type": "display_data"
    }
   ],
   "source": [
    "sns.histplot(davis_train[davis_train['sex'] =='M']['weight'])"
   ]
  },
  {
   "cell_type": "code",
   "execution_count": 145,
   "id": "3eaa2d8d",
   "metadata": {},
   "outputs": [
    {
     "data": {
      "text/plain": [
       "<AxesSubplot:xlabel='height', ylabel='Count'>"
      ]
     },
     "execution_count": 145,
     "metadata": {},
     "output_type": "execute_result"
    },
    {
     "data": {
      "image/png": "[encoded data removed]",
      "text/plain": [
       "<Figure size 432x288 with 1 Axes>"
      ]
     },
     "metadata": {
      "needs_background": "light"
     },
     "output_type": "display_data"
    }
   ],
   "source": [
    "sns.histplot(davis_train[davis_train['sex'] =='M']['height'])"
   ]
  },
  {
   "cell_type": "code",
   "execution_count": 146,
   "id": "b7c9dc10",
   "metadata": {},
   "outputs": [
    {
     "data": {
      "text/plain": [
       "<AxesSubplot:xlabel='weight', ylabel='Count'>"
      ]
     },
     "execution_count": 146,
     "metadata": {},
     "output_type": "execute_result"
    },
    {
     "data": {
      "image/png": "[encoded data removed]",
      "text/plain": [
       "<Figure size 432x288 with 1 Axes>"
      ]
     },
     "metadata": {
      "needs_background": "light"
     },
     "output_type": "display_data"
    }
   ],
   "source": [
    "sns.histplot(davis_train[davis_train['sex'] =='F']['weight'])\n"
   ]
  },
  {
   "cell_type": "code",
   "execution_count": 147,
   "id": "46f1a9fc",
   "metadata": {},
   "outputs": [
    {
     "data": {
      "text/plain": [
       "<AxesSubplot:xlabel='height', ylabel='Count'>"
      ]
     },
     "execution_count": 147,
     "metadata": {},
     "output_type": "execute_result"
    },
    {
     "data": {
      "image/png": "[encoded data removed]",
      "text/plain": [
       "<Figure size 432x288 with 1 Axes>"
      ]
     },
     "metadata": {
      "needs_background": "light"
     },
     "output_type": "display_data"
    }
   ],
   "source": [
    "sns.histplot(davis_train[davis_train['sex'] =='F']['height'])"
   ]
  },
  {
   "cell_type": "markdown",
   "id": "8ebdfa56",
   "metadata": {},
   "source": [
    "На тренировочных данных обучите классификатор пола (sex), используя только признаки height и weight. Замерьте производительность на тренировочной и тестовой выборке (через Accuracy). Рекомендуемые модели:  логистическая регрессия, quadratic discriminant analysis."
   ]
  },
  {
   "cell_type": "code",
   "execution_count": 148,
   "id": "0072ba94",
   "metadata": {},
   "outputs": [],
   "source": [
    "davis_train.replace({'M': 1, 'F': 0}, inplace=True)\n",
    "davis_test.replace({'M': 1, 'F': 0}, inplace=True)"
   ]
  },
  {
   "cell_type": "code",
   "execution_count": 149,
   "id": "275ea53a",
   "metadata": {},
   "outputs": [],
   "source": [
    "model = LogisticRegression()"
   ]
  },
  {
   "cell_type": "code",
   "execution_count": 150,
   "id": "a61348a1",
   "metadata": {},
   "outputs": [
    {
     "data": {
      "text/plain": [
       "LogisticRegression()"
      ]
     },
     "execution_count": 150,
     "metadata": {},
     "output_type": "execute_result"
    }
   ],
   "source": [
    "x_train = davis_train[['height','weight']]\n",
    "y_train = davis_train['sex']\n",
    "model.fit(x_train, y_train)"
   ]
  },
  {
   "cell_type": "code",
   "execution_count": 151,
   "id": "f694dccd",
   "metadata": {},
   "outputs": [
    {
     "data": {
      "text/plain": [
       "0.9121621621621622"
      ]
     },
     "execution_count": 151,
     "metadata": {},
     "output_type": "execute_result"
    }
   ],
   "source": [
    "x_test = davis_test[['height','weight']]\n",
    "y_test = davis_test['sex']\n",
    "predict = model.predict(x_test)\n",
    "\n",
    "accuracy = accuracy_score(predict, y_test)\n",
    "accuracy"
   ]
  },
  {
   "cell_type": "markdown",
   "id": "54125e3e",
   "metadata": {},
   "source": [
    "Отобразите точки из обучающей выборки на плоскости (height-weight). Покрасьте их цветами в зависимости от пола. Раскрасьте области в зависимости от пола, "
   ]
  },
  {
   "cell_type": "code",
   "execution_count": 152,
   "id": "bbc55d1e",
   "metadata": {},
   "outputs": [
    {
     "name": "stderr",
     "output_type": "stream",
     "text": [
      "c:\\users\\виталик\\appdata\\local\\programs\\python\\python38-32\\lib\\site-packages\\sklearn\\base.py:445: UserWarning: X does not have valid feature names, but LogisticRegression was fitted with feature names\n",
      "  warnings.warn(\n"
     ]
    },
    {
     "data": {
      "text/plain": [
       "<matplotlib.collections.PathCollection at 0x1e99e538>"
      ]
     },
     "execution_count": 152,
     "metadata": {},
     "output_type": "execute_result"
    },
    {
     "data": {
      "image/png": "[encoded data removed]",
      "text/plain": [
       "<Figure size 432x288 with 1 Axes>"
      ]
     },
     "metadata": {
      "needs_background": "light"
     },
     "output_type": "display_data"
    }
   ],
   "source": [
    "class_cmap = ListedColormap(['red', 'blue'])\n",
    "\n",
    "x1_min, x1_max = x_train['weight'].min()-0.5, x_train['weight'].max()+0.5\n",
    "x2_min, x2_max = x_train['height'].min()-0.5, x_train['height'].max()+0.5\n",
    "xx1,xx2 = np.mgrid[x1_min:x1_max:50j, x2_min:x2_max:50j]\n",
    "X_pred = np.column_stack([xx2.reshape(-1), xx1.reshape(-1)])\n",
    "Y_pred = model.predict(X_pred)\n",
    "figure, ax = plt.subplots()\n",
    "plt.pcolormesh(xx1,xx2, Y_pred.reshape(xx1.shape),cmap = class_cmap, alpha=0.3, shading='auto')\n",
    "plt.scatter(x_train['weight'], x_train['height'],cmap = class_cmap, c = y_train)"
   ]
  },
  {
   "cell_type": "code",
   "execution_count": 153,
   "id": "a38c8a40",
   "metadata": {},
   "outputs": [
    {
     "name": "stderr",
     "output_type": "stream",
     "text": [
      "c:\\users\\виталик\\appdata\\local\\programs\\python\\python38-32\\lib\\site-packages\\sklearn\\base.py:445: UserWarning: X does not have valid feature names, but LogisticRegression was fitted with feature names\n",
      "  warnings.warn(\n"
     ]
    },
    {
     "data": {
      "text/plain": [
       "<matplotlib.collections.PathCollection at 0x1c13ddc0>"
      ]
     },
     "execution_count": 153,
     "metadata": {},
     "output_type": "execute_result"
    },
    {
     "data": {
      "image/png": "[encoded data removed]",
      "text/plain": [
       "<Figure size 432x288 with 1 Axes>"
      ]
     },
     "metadata": {
      "needs_background": "light"
     },
     "output_type": "display_data"
    }
   ],
   "source": [
    "\n",
    "\n",
    "\n",
    "x1_min, x1_max = x_test['weight'].min()-0.5, x_test['weight'].max()+0.5\n",
    "x2_min, x2_max = x_test['height'].min()-0.5, x_test['height'].max()+0.5\n",
    "xx1,xx2 = np.mgrid[x1_min:x1_max:50j, x2_min:x2_max:50j]\n",
    "X_pred = np.column_stack([xx2.reshape(-1),xx1.reshape(-1) ])\n",
    "y_pred = model.predict(X_pred)\n",
    "figure, ax = plt.subplots()\n",
    "plt.pcolormesh(xx1,xx2, y_pred.reshape(xx1.shape),cmap = class_cmap,alpha=0.3, shading='auto')\n",
    "plt.scatter(x_test['weight'], x_test['height'],cmap = class_cmap, c = y_test)"
   ]
  }
 ],
 "metadata": {
  "kernelspec": {
   "display_name": "Python 3 (ipykernel)",
   "language": "python",
   "name": "python3"
  },
  "language_info": {
   "codemirror_mode": {
    "name": "ipython",
    "version": 3
   },
   "file_extension": ".py",
   "mimetype": "text/x-python",
   "name": "python",
   "nbconvert_exporter": "python",
   "pygments_lexer": "ipython3",
   "version": "3.8.3"
  }
 },
 "nbformat": 4,
 "nbformat_minor": 5
}
